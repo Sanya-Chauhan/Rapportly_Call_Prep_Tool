{
 "cells": [
  {
   "cell_type": "code",
   "execution_count": 4,
   "metadata": {},
   "outputs": [
    {
     "name": "stdout",
     "output_type": "stream",
     "text": [
      "https://www.linkedin.com/in/srikaran-reddy\n"
     ]
    }
   ],
   "source": [
    "import requests\n",
    "from bs4 import BeautifulSoup\n",
    "\n",
    "def get_first_google_search_link(query):\n",
    "    headers = {'User-Agent': 'Mozilla/5.0 (Windows NT 10.0; Win64; x64) AppleWebKit/537.36 (KHTML, like Gecko) Chrome/58.0.3029.110 Safari/537.3'}\n",
    "    google_search_url = 'https://www.google.com/search'\n",
    "    params = {'q': query}\n",
    "    \n",
    "    response = requests.get(google_search_url, headers=headers, params=params)\n",
    "    if response.status_code == 200:\n",
    "        soup = BeautifulSoup(response.text, 'html.parser')\n",
    "        search_results = soup.find_all('a', href=True)\n",
    "        for result in search_results:\n",
    "            href = result['href']\n",
    "            if \"https://www.linkedin.com/in\" in href:\n",
    "                return href\n",
    "    return None\n",
    "\n",
    "# Example usage\n",
    "search_string = \"Srikaran Boya MIT linkedin\"\n",
    "first_link = get_first_google_search_link(search_string)\n",
    "\n",
    "# Extract the URL part\n",
    "start = first_link.find(\"url=\") + 4\n",
    "end = first_link.find(\"&\", start)\n",
    "extracted_url = first_link[start:end]\n",
    "\n",
    "print(extracted_url)"
   ]
  },
  {
   "cell_type": "code",
   "execution_count": null,
   "metadata": {},
   "outputs": [],
   "source": []
  }
 ],
 "metadata": {
  "kernelspec": {
   "display_name": "Python 3",
   "language": "python",
   "name": "python3"
  },
  "language_info": {
   "codemirror_mode": {
    "name": "ipython",
    "version": 3
   },
   "file_extension": ".py",
   "mimetype": "text/x-python",
   "name": "python",
   "nbconvert_exporter": "python",
   "pygments_lexer": "ipython3",
   "version": "3.10.0"
  }
 },
 "nbformat": 4,
 "nbformat_minor": 2
}
