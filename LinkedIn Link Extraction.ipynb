{
 "cells": [
  {
   "cell_type": "markdown",
   "metadata": {},
   "source": [
    "# Step 2\n",
    "### LinkedIn Profile's Link Extraction"
   ]
  },
  {
   "cell_type": "code",
   "execution_count": 4,
   "metadata": {},
   "outputs": [
    {
     "name": "stdout",
     "output_type": "stream",
     "text": [
      "https://www.linkedin.com/in/srikaran-reddy\n"
     ]
    }
   ],
   "source": [
    "import requests\n",
    "from bs4 import BeautifulSoup\n",
    "\n",
    "import gspread\n",
    "from oauth2client.service_account import ServiceAccountCredentials\n",
    "\n",
    "# Define the scope and credentials\n",
    "scope = ['https://spreadsheets.google.com/feeds',\n",
    "         'https://www.googleapis.com/auth/drive']\n",
    "creds = ServiceAccountCredentials.from_json_keyfile_name('credentials.json', scope)\n",
    "\n",
    "# Authorize the client\n",
    "client = gspread.authorize(creds)\n",
    "\n",
    "# Open the Google Sheet\n",
    "sheet = client.open('calendar event info').GetEvents\n",
    "\n",
    "# Assuming your emails are in the first column\n",
    "email_column = sheet.col_values(4)\n",
    "\n",
    "for email_address in email_column:\n",
    "    # Split the email address into first name, last name, and company (assumed that all emails are in this format: firstname.lastname@company.com)\n",
    "    first_name, last_name, company = email_address.split('@')[0].split('.')\n",
    "\n",
    "\n",
    "# Function to retrieve the first Google search result link for a given query\n",
    "def get_first_google_search_link(query):\n",
    "    \n",
    "    # Set user agent to mimic a web browser\n",
    "    headers = {'User-Agent': 'Mozilla/5.0 (Windows NT 10.0; Win64; x64) AppleWebKit/537.36 (KHTML, like Gecko) Chrome/58.0.3029.110 Safari/537.3'}\n",
    "    \n",
    "    # URL for Google search and parameters including the search query\n",
    "    google_search_url = 'https://www.google.com/search'\n",
    "    params = {'q': query}\n",
    "    \n",
    "    # Sending a GET request to Google Search\n",
    "    response = requests.get(google_search_url, headers=headers, params=params)\n",
    "    \n",
    "    # Check if the response is successful (status code 200)\n",
    "    if response.status_code == 200:\n",
    "        # Parse the response content with BeautifulSoup\n",
    "        soup = BeautifulSoup(response.text, 'html.parser')\n",
    "        \n",
    "        # Find all links (anchor tags) in the search results\n",
    "        search_results = soup.find_all('a', href=True)\n",
    "        \n",
    "        # Iterate through each search result link\n",
    "        for result in search_results:\n",
    "            href = result['href']  # Get the href attribute (URL)\n",
    "            \n",
    "            # Check if the link leads to a LinkedIn profile\n",
    "            if \"https://www.linkedin.com/in\" in href:\n",
    "                return href  # Return the URL if it is a LinkedIn profile link\n",
    "    \n",
    "    # Return None if no suitable LinkedIn profile link is found\n",
    "    return None\n",
    "\n",
    "\n",
    "search_string = f\"{first_name} {last_name} {company} LinkedIn\"\n",
    "first_link = get_first_google_search_link(search_string)\n",
    "\n",
    "# Extract the URL part\n",
    "start = first_link.find(\"url=\") + 4\n",
    "end = first_link.find(\"&\", start)\n",
    "extracted_linkedin_url = first_link[start:end]\n",
    "\n",
    "print(extracted_linkedin_url)"
   ]
  }
 ],
 "metadata": {
  "kernelspec": {
   "display_name": "Python 3",
   "language": "python",
   "name": "python3"
  },
  "language_info": {
   "codemirror_mode": {
    "name": "ipython",
    "version": 3
   },
   "file_extension": ".py",
   "mimetype": "text/x-python",
   "name": "python",
   "nbconvert_exporter": "python",
   "pygments_lexer": "ipython3",
   "version": "3.10.0"
  }
 },
 "nbformat": 4,
 "nbformat_minor": 2
}
