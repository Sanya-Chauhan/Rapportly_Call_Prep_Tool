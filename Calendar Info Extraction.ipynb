{
 "cells": [
  {
   "cell_type": "markdown",
   "metadata": {},
   "source": [
    "<img src=\"/Users/sanyachauhan/Desktop/hackathon/1.png\" width=\"20%\" />"
   ]
  },
  {
   "cell_type": "markdown",
   "metadata": {},
   "source": [
    "### Model Workflow\n",
    "\n",
    "1. **Calendar Event's Information Extraction:** Using <span style=\"color:blue\">Google Calendar API</span>, we extract information from Salesperson’s Google Calendar and auto-populated in a Google Sheet, everyday, for next day’s events.\n",
    "\n",
    "2. **LinkedIn Profile's Link Extraction:** Using <span style=\"color:blue\">Google Sheet API</span>, we use names and organisations of the prospective clients to find the LinkedIn profile link of the prospective client. The first link after the Google search is assumed to be the LinkedIn link. \n",
    "\n",
    "3. **Saving LinkedIn's Profile Data into Text Files:** The LinkedIn profile information (for salesperson and client), using <span style=\"color:blue\">Web Search</span>, is saved as a text file.\n",
    "\n",
    "4. **Response Generation using GenAI Model <span style=\"color:blue\">Gemini Pro</span>:** A prompt with additiona information from attached files (LinkedIn profiles + past email conversations) are fed to a code using Gemini model. The respons is the required 5 and 1 minute summary.\n",
    "\n",
    "5. **Automated Email Scheduling:** The response from Gemini is sent to the salesperson in an email 10 minuted before every meeting as per the Google Calendar."
   ]
  },
  {
   "cell_type": "markdown",
   "metadata": {},
   "source": [
    "# Step 1\n",
    "### Google Calendar Event's Information Extraction\n",
    "\n",
    "This part of the code is executed in <span style=\"color:blue\">Google Sheet's Extention:</span> <span style=\"color:red\">Apps Script</span>"
   ]
  },
  {
   "cell_type": "code",
   "execution_count": null,
   "metadata": {},
   "outputs": [],
   "source": [
    "# Replace all # with // to convert them into comments for Apps Script\n",
    "\n",
    "# This function retrieves events from a Google Calendar and stores them in a Google Sheets spreadsheet.\n",
    "\n",
    "function myFunction() {\n",
    "  # Access the currently active Google Spreadsheet\n",
    "  var ss = SpreadsheetApp.getActiveSpreadsheet();\n",
    "\n",
    "  # Try to get the sheet named \"GetEvents\" if it exists, otherwise create a new sheet with that name\n",
    "  var sheet = ss.getSheetByName(\"GetEvents\") || ss.insertSheet(\"GetEvents\");\n",
    "\n",
    "  # Access the Google Calendar with the specified ID\n",
    "  var cal = CalendarApp.getCalendarById(\"mitwork100@gmail.com\");\n",
    "\n",
    "  # Get today's date\n",
    "  var today = new Date();\n",
    "\n",
    "  # Add 1 day to get tomorrow's date\n",
    "  var tomorrow = new Date(today);\n",
    "  tomorrow.setDate(tomorrow.getDate() + 1);\n",
    "\n",
    "  # Set the start of tomorrow to 12:00 AM\n",
    "  var startOfTomorrow = new Date(tomorrow.setHours(0, 0, 0, 0));\n",
    "\n",
    "  # Set the end of tomorrow to 11:59 PM\n",
    "  var endOfTomorrow = new Date(tomorrow.setHours(23, 59, 59, 999));\n",
    "\n",
    "  # Retrieve events happening tomorrow from the Google Calendar\n",
    "  var events = cal.getEvents(startOfTomorrow, endOfTomorrow);\n",
    "\n",
    "  # Loop through each event retrieved\n",
    "  for(var i = 0; i < events.length; i++){\n",
    "    # Extract details of the event\n",
    "    var title = events[i].getTitle();\n",
    "    var start = events[i].getStartTime();\n",
    "    var end = events[i].getEndTime();\n",
    "\n",
    "    # Get the spreadsheet's time zone and format event start and end times accordingly\n",
    "    var timeZone = ss.getSpreadsheetTimeZone();\n",
    "    var start_time = Utilities.formatDate(start, timeZone, \"HH:mm\");\n",
    "    var end_time = Utilities.formatDate(end, timeZone, \"HH:mm\");\n",
    "\n",
    "    # Extract event description\n",
    "    var des = events[i].getDescription();\n",
    "\n",
    "    # Extract the email address of the event creator\n",
    "    var creators = events[i].getCreators();\n",
    "\n",
    "    # Extract the list of guests invited to the event\n",
    "    var guests = events[i].getGuestList();\n",
    "    var guestCount = guests.length;\n",
    "\n",
    "    # Create an array to store guest email addresses\n",
    "    var guestEmails = [];\n",
    "    for (var j = 0; j < guests.length; j++) {      \n",
    "      guestEmails.push(guests[j].getEmail());\n",
    "    }\n",
    "\n",
    "    # Join all emails (including the organizer's) into a single string separated by commas\n",
    "    var client_email = guestEmails.join(\", \");\n",
    "\n",
    "    # Write event details to the spreadsheet\n",
    "    sheet.getRange(i+2,1).setValue(title); // Write event title\n",
    "    sheet.getRange(i+2,2).setValue(start_time); // Write event start time\n",
    "    sheet.getRange(i+2,3).setValue(end_time); // Write event end time\n",
    "    sheet.getRange(i+2,4).setValue(client_email); // Write guest emails\n",
    "    sheet.getRange(i+2,5).setValue(creators); // Write event creators\n",
    "    sheet.getRange(i+2,6).setValue(des); // Write event description\n",
    "  }\n",
    "\n",
    "  # Log a message indicating that events have been successfully added to the spreadsheet\n",
    "  Logger.log(\"Events have been added to the Spreadsheet\");\n",
    "}"
   ]
  }
 ],
 "metadata": {
  "kernelspec": {
   "display_name": "Python 3",
   "language": "python",
   "name": "python3"
  },
  "language_info": {
   "codemirror_mode": {
    "name": "ipython",
    "version": 3
   },
   "file_extension": ".py",
   "mimetype": "text/x-python",
   "name": "python",
   "nbconvert_exporter": "python",
   "pygments_lexer": "ipython3",
   "version": "3.10.0"
  }
 },
 "nbformat": 4,
 "nbformat_minor": 2
}
