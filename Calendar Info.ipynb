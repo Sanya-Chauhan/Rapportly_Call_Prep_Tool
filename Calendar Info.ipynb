{
 "cells": [
  {
   "cell_type": "markdown",
   "metadata": {},
   "source": [
    "Using Apps Scripts and Google Sheets"
   ]
  },
  {
   "cell_type": "code",
   "execution_count": null,
   "metadata": {},
   "outputs": [],
   "source": [
    "function myFunction() {\n",
    "  var ss = SpreadsheetApp.getActiveSpreadsheet();\n",
    "  var sheet = ss.getSheetByName(\"GetEvents\") || ss.insertSheet(\"GetEvents\");\n",
    "\n",
    "  var cal = CalendarApp.getCalendarById(\"mitwork100@gmail.com\");\n",
    "  var events = cal.getEvents(new Date(\"2/18/2024 12:00 AM\"), new Date(\"2/18/2024 11:59 PM\"));\n",
    "\n",
    "  for(var i = 0;i<events.length;i++){\n",
    "    var title = events[i].getTitle();\n",
    "    var start = events[i].getStartTime();\n",
    "    var end = events[i].getEndTime();\n",
    "\n",
    "    var timeZone = ss.getSpreadsheetTimeZone(); // Get the spreadsheet's time zone\n",
    "    var start_time = Utilities.formatDate(start, timeZone, \"HH:mm\");\n",
    "    var end_time = Utilities.formatDate(end, timeZone, \"HH:mm\");\n",
    "    var des = events[i].getDescription();\n",
    "\n",
    "    var creators = events[i].getCreators()// Get the creator's email address\n",
    "\n",
    "    var guests = events[i].getGuestList();\n",
    "\n",
    "    var guestEmails = [];\n",
    "    for (var j = 0; j < guests.length; j++) {      \n",
    "      guestEmails.push(guests[j].getEmail()); // Add each guest's email to the array\n",
    "    }\n",
    "\n",
    "    var client_email = guestEmails.join(\", \");\n",
    "\n",
    "    sheet.getRange(i+2,1).setValue(title);\n",
    "    sheet.getRange(i+2,2).setValue(start_time);\n",
    "    sheet.getRange(i+2,3).setValue(end_time);\n",
    "    \n",
    "    sheet.getRange(i+2,4).setValue(client_email);\n",
    "    sheet.getRange(i+2,5).setValue(creators);\n",
    "    sheet.getRange(i+2,6).setValue(des);\n",
    "\n",
    "  }\n",
    "\n",
    "  Logger.log(\"Events have been added to the Spreadsheet\");\n",
    "}"
   ]
  }
 ],
 "metadata": {
  "language_info": {
   "name": "python"
  }
 },
 "nbformat": 4,
 "nbformat_minor": 2
}
