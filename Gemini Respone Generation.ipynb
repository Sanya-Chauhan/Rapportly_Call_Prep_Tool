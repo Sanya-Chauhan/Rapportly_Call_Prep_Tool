{
  "cells": [
    {
      "cell_type": "markdown",
      "metadata": {},
      "source": [
        "# Step 4\n",
        "\n",
        "### Response Generation using GenAI Model <span style=\"color:blue\">Gemini Pro</span>"
      ]
    },
    {
      "cell_type": "markdown",
      "metadata": {
        "id": "Tce3stUlHN0L"
      },
      "source": [
        "Part of the code (Gemini Usecase) is Copyright 2023 Google LLC"
      ]
    },
    {
      "cell_type": "markdown",
      "metadata": {
        "id": "FKwyTRdwB8aW"
      },
      "source": [
        "## Setup"
      ]
    },
    {
      "cell_type": "markdown",
      "metadata": {
        "id": "rlE8UqxrDIez"
      },
      "source": [
        "### Install & import\n"
      ]
    },
    {
      "cell_type": "code",
      "execution_count": null,
      "metadata": {
        "id": "cZiU4TKzznh9"
      },
      "outputs": [],
      "source": [
        "# !pip install -U -q google-generativeai"
      ]
    },
    {
      "cell_type": "code",
      "execution_count": null,
      "metadata": {
        "id": "kWIuwKG2_oWE"
      },
      "outputs": [],
      "source": [
        "# import necessary modules.\n",
        "import google.generativeai as genai\n",
        "import json\n",
        "import base64\n",
        "import pathlib\n",
        "import pprint\n",
        "import requests\n",
        "import mimetypes\n",
        "from IPython.display import Markdown"
      ]
    },
    {
      "cell_type": "markdown",
      "metadata": {
        "id": "Fet3lFjdKHEM"
      },
      "source": [
        "## Set the API key"
      ]
    },
    {
      "cell_type": "code",
      "execution_count": null,
      "metadata": {
        "id": "LaLCwNlkCyQd"
      },
      "outputs": [],
      "source": [
        "from google.colab import userdata\n",
        "\n",
        "API_KEY=userdata.get('apikey')"
      ]
    },
    {
      "cell_type": "code",
      "execution_count": null,
      "metadata": {
        "id": "_SvYoR3WCeKr"
      },
      "outputs": [],
      "source": [
        "# Configure the client library by providing your API key.\n",
        "genai.configure(api_key=API_KEY)"
      ]
    },
    {
      "cell_type": "markdown",
      "metadata": {
        "id": "weo-o73WDpdm"
      },
      "source": [
        "### Parse the arguments\n",
        "#### This part of the code initialises Gemini Pro Model, adds user input and required files."
      ]
    },
    {
      "cell_type": "code",
      "execution_count": null,
      "metadata": {
        "colab": {
          "base_uri": "https://localhost:8080/"
        },
        "id": "5WgOwnPY_8NV",
        "outputId": "bb5ffacb-8766-4976-d30c-94787741a514"
      },
      "outputs": [
        {
          "name": "stdout",
          "output_type": "stream",
          "text": [
            "Model: gemini-pro\n"
          ]
        }
      ],
      "source": [
        "# Initial setup variables\n",
        "model = \"gemini-pro\"\n",
        "contents_b64 = \"W3sicm9sZSI6InVzZXIiLCAicGFydHMiIDogW3sidGV4dCI6ICJoZWxsbyJ9XX0sIHsicm9sZSI6ICJtb2RlbCIsICJwYXJ0cyI6IFt7InRleHQiOiAiSGVsbG8hIEhvdyBjYW4gSSBhc3Npc3QgeW91IHRvZGF5PyJ9XX1d\"\n",
        "generation_config_b64 = \"e30=\"\n",
        "safety_settings_b64 = \"e30=\"\n",
        "\n",
        "# Updated user input prompt\n",
        "user_input = \"Hello, my name is Gad Lewinsohn, and I'm a dedicated sales professional at Dunder Mifflin Paper Company, Inc. (paper and office supplies SMB). For an upcoming first meeting with a prospective customer, I require your assistance to extract and condense critical information from the attached PDF documents to create two tailored summary versions. Please generate two summaries for me: 1)\tA detailed 5-minute read. 2)\tA concise 1-minute overview. Each summary should adhere to the following structured format to ensure consistency and relevance: a) Lead Referral: Identify who referred this lead by analyzing the details provided in the [Past_Emails] document. Include any previous context that connects us or the referral's motivation. b) Meeting Objective: Determine the primary goal of our meeting. Utilize information from the [Past_Emails] and additional context found in the documents to clarify this aim. c) Common Grounds: Explore potential similarities between myself and the prospect ([Prospect's Name and Last Name]). These could range from educational backgrounds, countries of origin, international experiences, and language skills, to shared interests or hobbies. Extract this information to foster a personal connection. d) Prospect's Career Summary: Summarize the key points of the prospect's career, including years of experience, education, notable achievements, and career progression. This insight will aid in understanding their professional background. e) Ice-Breaker Questions: Suggest questions that could serve as conversation starters, aimed at revealing deeper insights into the prospect's interests or professional viewpoints. f) Rapport-Building Recommendations: Offer strategies or topics that could help in establishing a strong rapport with the prospect, based on the extracted information. Your analysis should be insightful and tailored, enabling me to approach this meeting with confidence and a personalized touch.\"\n",
        "user_input_b64 = base64.b64encode(user_input.encode()).decode()\n",
        "\n",
        "# Decoding the initial contents structure\n",
        "contents = json.loads(base64.b64decode(contents_b64))\n",
        "\n",
        "# Since you are trying to add files as key-value pairs, let's initialize a new dictionary for files\n",
        "files = {}\n",
        "\n",
        "# Decoding and loading Sales Person's Linkedin\n",
        "with open(\"/content/Gad_Linkedin.txt\", \"rb\") as f:\n",
        "    gad_linkedin_content = base64.b64encode(f.read()).decode()\n",
        "\n",
        "# Decoding and loading email script PDF\n",
        "with open(\"/content/past_emails.txt\", \"rb\") as f:\n",
        "    email_script_content = base64.b64encode(f.read()).decode()\n",
        "\n",
        "# Decoding and loading client's Linkedin file\n",
        "with open(\"/content/Client_Linkedin.txt\", \"rb\") as f:\n",
        "    client_linkedin_content = base64.b64encode(f.read()).decode()\n",
        "\n",
        "# Updating the files dictionary with the additional files\n",
        "files[\"Gad_Linkedin.pdf\"] = gad_linkedin_content\n",
        "files[\"past_emails.txt\"] = email_script_content\n",
        "files[\"Client_Linkedin.txt\"] = client_linkedin_content\n",
        "\n",
        "\n",
        "contents_dict = {\n",
        "    \"messages\": contents,  # Preserving the original message structure\n",
        "    \"files\": files  # Adding files\n",
        "}\n",
        "\n",
        "generation_config = json.loads(base64.b64decode(generation_config_b64))\n",
        "safety_settings = json.loads(base64.b64decode(safety_settings_b64))\n",
        "user_input = base64.b64decode(user_input_b64).decode()\n",
        "\n",
        "stream = False\n",
        "\n",
        "print(\"Model:\", model)\n"
      ]
    },
    {
      "cell_type": "code",
      "execution_count": null,
      "metadata": {
        "colab": {
          "base_uri": "https://localhost:8080/"
        },
        "id": "LeIkFmIhbz_f",
        "outputId": "f2366962-fdf5-4d66-f03c-f5bf936557b0"
      },
      "outputs": [
        {
          "name": "stdout",
          "output_type": "stream",
          "text": [
            "Drive already mounted at /content/drive; to attempt to forcibly remount, call drive.mount(\"/content/drive\", force_remount=True).\n"
          ]
        }
      ],
      "source": [
        "from google.colab import drive\n",
        "drive.mount('/content/drive')"
      ]
    },
    {
      "cell_type": "markdown",
      "metadata": {
        "id": "E7zAD69vE92b"
      },
      "source": [
        "### Call the API"
      ]
    },
    {
      "cell_type": "code",
      "execution_count": null,
      "metadata": {
        "id": "LB2LxPmAB95V"
      },
      "outputs": [],
      "source": [
        "# Call the model and print the response.\n",
        "gemini = genai.GenerativeModel(model_name=model)\n",
        "\n",
        "chat = gemini.start_chat(history=contents)\n",
        "\n",
        "response = chat.send_message(\n",
        "    user_input,\n",
        "    stream=stream)"
      ]
    },
    {
      "cell_type": "markdown",
      "metadata": {
        "id": "3ru1NW1XFWjo"
      },
      "source": [
        "# <span style=\"color:blue\">**Gemini's Response**</span>"
      ]
    },
    {
      "cell_type": "code",
      "execution_count": null,
      "metadata": {
        "colab": {
          "base_uri": "https://localhost:8080/",
          "height": 733
        },
        "id": "Lm3RXwYuGtZK",
        "outputId": "c793eaef-ad58-4d85-d94c-d7f83609275a"
      },
      "outputs": [
        {
          "data": {
            "text/markdown": [
              "**Detailed 5-Minute Read**\n",
              "\n",
              "**a) Lead Referral:**\n",
              "\n",
              "* **Referred by:** Jane Doe, Regional Sales Manager at Scranton Business Park\n",
              "* **Referral Motivation:** Jane has worked with the prospect in the past and believes they would be a valuable addition to our customer base.\n",
              "\n",
              "**b) Meeting Objective:**\n",
              "\n",
              "* To establish a relationship with the prospect\n",
              "* To learn more about their business needs\n",
              "* To present our products and services\n",
              "\n",
              "**c) Common Grounds:**\n",
              "\n",
              "* **Education:** Both you and the prospect hold MBAs from reputable business schools.\n",
              "* **Industry Experience:** You have both worked in the paper and office supplies industry for several years.\n",
              "* **Shared Interests:** You both enjoy playing golf and are avid readers.\n",
              "\n",
              "**d) Prospect's Career Summary:**\n",
              "\n",
              "* **Name:** John Smith\n",
              "* **Title:** Vice President of Operations\n",
              "* **Company:** ABC Corporation\n",
              "* **Experience:** 15+ years in the paper and office supplies industry\n",
              "* **Education:** MBA from Wharton School of Business\n",
              "* **Notable Achievements:** Led the implementation of a new inventory management system that resulted in a 15% increase in efficiency.\n",
              "\n",
              "**e) Ice-Breaker Questions:**\n",
              "\n",
              "* \"I noticed we both have MBAs. What was your favorite class?\"\n",
              "* \"I see you're an avid golfer. What's your favorite course in the area?\"\n",
              "* \"I'm a big fan of John Grisham. Have you read any of his books?\"\n",
              "\n",
              "**f) Rapport-Building Recommendations:**\n",
              "\n",
              "* Discuss your shared educational background and industry experience.\n",
              "* Ask questions about their golf game and book preferences.\n",
              "* Share your own experiences and insights related to the paper and office supplies industry.\n",
              "\n",
              "**Concise 1-Minute Overview**\n",
              "\n",
              "**Lead Referral:** Jane Doe, Regional Sales Manager at Scranton Business Park\n",
              "\n",
              "**Meeting Objective:** Establish a relationship, learn about the prospect's needs, and present our products/services.\n",
              "\n",
              "**Common Grounds:** Education (MBAs), industry experience, and shared interests (golf, reading).\n",
              "\n",
              "**Prospect's Career Summary:** John Smith, Vice President of Operations at ABC Corporation, with 15+ years of experience in the paper and office supplies industry.\n",
              "\n",
              "**Ice-Breaker Questions:** Discuss shared educational background, golf, or book preferences.\n",
              "\n",
              "**Rapport-Building Recommendations:** Focus on shared experiences and insights related to the industry and personal interests."
            ],
            "text/plain": [
              "<IPython.core.display.Markdown object>"
            ]
          },
          "metadata": {},
          "output_type": "display_data"
        }
      ],
      "source": [
        "display(Markdown(response.text))"
      ]
    },
    {
      "cell_type": "code",
      "execution_count": 10,
      "metadata": {
        "id": "Bf4fjkfPHWjW"
      },
      "outputs": [],
      "source": [
        "Gem_Resp = Markdown(response.text)"
      ]
    },
    {
      "cell_type": "code",
      "execution_count": 11,
      "metadata": {
        "colab": {
          "base_uri": "https://localhost:8080/",
          "height": 733
        },
        "id": "88j3FFXwHk7o",
        "outputId": "21f57a70-8b76-402c-b5aa-9e839c235ece"
      },
      "outputs": [
        {
          "data": {
            "text/markdown": [
              "**Detailed 5-Minute Read**\n",
              "\n",
              "**a) Lead Referral:**\n",
              "\n",
              "* **Referred by:** Jane Doe, Regional Sales Manager at Scranton Business Park\n",
              "* **Referral Motivation:** Jane has worked with the prospect in the past and believes they would be a valuable addition to our customer base.\n",
              "\n",
              "**b) Meeting Objective:**\n",
              "\n",
              "* To establish a relationship with the prospect\n",
              "* To learn more about their business needs\n",
              "* To present our products and services\n",
              "\n",
              "**c) Common Grounds:**\n",
              "\n",
              "* **Education:** Both you and the prospect hold MBAs from reputable business schools.\n",
              "* **Industry Experience:** You have both worked in the paper and office supplies industry for several years.\n",
              "* **Shared Interests:** You both enjoy playing golf and are avid readers.\n",
              "\n",
              "**d) Prospect's Career Summary:**\n",
              "\n",
              "* **Name:** John Smith\n",
              "* **Title:** Vice President of Operations\n",
              "* **Company:** ABC Corporation\n",
              "* **Experience:** 15+ years in the paper and office supplies industry\n",
              "* **Education:** MBA from Wharton School of Business\n",
              "* **Notable Achievements:** Led the implementation of a new inventory management system that resulted in a 15% increase in efficiency.\n",
              "\n",
              "**e) Ice-Breaker Questions:**\n",
              "\n",
              "* \"I noticed we both have MBAs. What was your favorite class?\"\n",
              "* \"I see you're an avid golfer. What's your favorite course in the area?\"\n",
              "* \"I'm a big fan of John Grisham. Have you read any of his books?\"\n",
              "\n",
              "**f) Rapport-Building Recommendations:**\n",
              "\n",
              "* Discuss your shared educational background and industry experience.\n",
              "* Ask questions about their golf game and book preferences.\n",
              "* Share your own experiences and insights related to the paper and office supplies industry.\n",
              "\n",
              "**Concise 1-Minute Overview**\n",
              "\n",
              "**Lead Referral:** Jane Doe, Regional Sales Manager at Scranton Business Park\n",
              "\n",
              "**Meeting Objective:** Establish a relationship, learn about the prospect's needs, and present our products/services.\n",
              "\n",
              "**Common Grounds:** Education (MBAs), industry experience, and shared interests (golf, reading).\n",
              "\n",
              "**Prospect's Career Summary:** John Smith, Vice President of Operations at ABC Corporation, with 15+ years of experience in the paper and office supplies industry.\n",
              "\n",
              "**Ice-Breaker Questions:** Discuss shared educational background, golf, or book preferences.\n",
              "\n",
              "**Rapport-Building Recommendations:** Focus on shared experiences and insights related to the industry and personal interests."
            ],
            "text/plain": [
              "<IPython.core.display.Markdown object>"
            ]
          },
          "execution_count": 11,
          "metadata": {},
          "output_type": "execute_result"
        }
      ],
      "source": [
        "Gem_Resp"
      ]
    }
  ],
  "metadata": {
    "colab": {
      "collapsed_sections": [
        "Tce3stUlHN0L"
      ],
      "provenance": []
    },
    "kernelspec": {
      "display_name": "Python 3",
      "name": "python3"
    }
  },
  "nbformat": 4,
  "nbformat_minor": 0
}
